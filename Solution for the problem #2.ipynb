{
 "cells": [
  {
   "cell_type": "markdown",
   "id": "8802031b",
   "metadata": {},
   "source": [
    "# Problem 2\n",
    "\n",
    "Problem 2\n",
    "Use a Python script to connect to any free exchange rate API and pull the spot rate or daily rate of following currencies and convert to USD.<br>\n",
    " AUD<br>\n",
    " CAD<br>\n",
    " CHF<br>\n",
    " CNH<br>\n",
    " EUR<br>\n",
    " GBP<br>\n",
    " HKD<br>\n",
    " JPY<br>\n",
    " NZD<br>\n",
    " USD<br>\n",
    "\n",
    "Note: If in case you cannot find the exact currencies, please use any 10 currencies, and convert each to USD.\n",
    "The output file could be an excel/csv file with following columns:<br>\n",
    "Rate Type <br>\n",
    "Date<br>\n",
    "Currency_From<br>\n",
    "Currency_From_Value<br>\n",
    "Currency_To <br>\n",
    "Currency_To_Value <br>"
   ]
  },
  {
   "cell_type": "markdown",
   "id": "497a656a",
   "metadata": {},
   "source": [
    "# Solution"
   ]
  },
  {
   "cell_type": "code",
   "execution_count": 36,
   "id": "de11ac98",
   "metadata": {},
   "outputs": [],
   "source": [
    "#import the required libraries\n",
    "import requests\n",
    "import pandas as pd\n",
    "from datetime import datetime"
   ]
  },
  {
   "cell_type": "code",
   "execution_count": 37,
   "id": "b3024c5a",
   "metadata": {},
   "outputs": [],
   "source": [
    "# Function to get exchange rates\n",
    "def get_exchange_rates():\n",
    "    url = \"https://open.er-api.com/v6/latest/USD\"\n",
    "    response = requests.get(url)\n",
    "    data = response.json()\n",
    "    return data['rates']\n"
   ]
  },
  {
   "cell_type": "code",
   "execution_count": 38,
   "id": "446aac88",
   "metadata": {},
   "outputs": [],
   "source": [
    "# Function to convert currencies to USD\n",
    "def convert_to_usd(amount, rate):\n",
    "    return amount / rate"
   ]
  },
  {
   "cell_type": "code",
   "execution_count": 39,
   "id": "29134e70",
   "metadata": {},
   "outputs": [],
   "source": [
    "# Main code\n",
    "if __name__ == \"__main__\":\n",
    "    currencies = ['AUD', 'CAD', 'CHF', 'CNY', 'EUR', 'GBP', 'HKD', 'JPY', 'NZD', 'SGD', 'USD']\n",
    "    exchange_rates = get_exchange_rates()\n",
    "    data = []\n",
    "\n",
    "    for currency in currencies:\n",
    "        rate = exchange_rates.get(currency, None)\n",
    "        if rate:\n",
    "            usd_value = convert_to_usd(1, rate)\n",
    "            data.append(['Spot rate', datetime.now().strftime('%d/%m/%Y'), currency, 1, 'USD', usd_value, rate])"
   ]
  },
  {
   "cell_type": "markdown",
   "id": "f5173625",
   "metadata": {},
   "source": [
    "# Output: CSV file"
   ]
  },
  {
   "cell_type": "code",
   "execution_count": 40,
   "id": "16c99191",
   "metadata": {},
   "outputs": [
    {
     "name": "stdout",
     "output_type": "stream",
     "text": [
      "CSV file generated: currency_conversion.csv\n"
     ]
    }
   ],
   "source": [
    "    # Create a pandas dataframe and export it as a CSV file\n",
    "    df = pd.DataFrame(data, columns=['Rate Type', 'Date', 'Currency_From', 'Currency_From_Value', 'Currency_To', 'Currency_To_Value', 'Spot rate'])\n",
    "    df.to_csv('currency_conversion.csv', index=False)\n",
    "    print(\"CSV file generated: currency_conversion.csv\")"
   ]
  },
  {
   "cell_type": "markdown",
   "id": "20b4e0b1",
   "metadata": {},
   "source": [
    "##### Note: <br>\n",
    "1- The currency 'CNH' has been replaced by 'CNY'.<br>\n",
    "2- The currency 'SGD' (Singapore Dollar) has been added to the list of currencies to be converted into USD, making the total number of currencies 11. This was done under the assumption that 'USD' might have been included in the list by mistake. By adding 'SGD', we ensure that the requirement to convert 10 currencies (excluding USD) into USD is fulfilled."
   ]
  },
  {
   "cell_type": "code",
   "execution_count": null,
   "id": "08fbdeed",
   "metadata": {},
   "outputs": [],
   "source": []
  }
 ],
 "metadata": {
  "kernelspec": {
   "display_name": "Python 3 (ipykernel)",
   "language": "python",
   "name": "python3"
  },
  "language_info": {
   "codemirror_mode": {
    "name": "ipython",
    "version": 3
   },
   "file_extension": ".py",
   "mimetype": "text/x-python",
   "name": "python",
   "nbconvert_exporter": "python",
   "pygments_lexer": "ipython3",
   "version": "3.9.13"
  }
 },
 "nbformat": 4,
 "nbformat_minor": 5
}
